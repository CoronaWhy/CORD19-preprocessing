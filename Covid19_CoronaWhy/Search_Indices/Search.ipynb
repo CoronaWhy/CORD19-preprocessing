{
 "cells": [
  {
   "cell_type": "markdown",
   "metadata": {},
   "source": [
    "# Performing search with the built Whoosh and Annoy modules\n",
    "\n",
    "After building the indices for our search engine(s), we can just read in the pickled objects. The obtained hit indices we can carry forward to another pipline, or render here by looking back into the corpus. "
   ]
  },
  {
   "cell_type": "code",
   "execution_count": null,
   "metadata": {},
   "outputs": [],
   "source": [
    "# -*- coding: utf-8 -*-\n",
    "\n",
    "import json, os, spacy, re, gensim, string, collections, pickle, sys, time\n",
    "from gensim.test.utils import common_texts\n",
    "from gensim.corpora.dictionary import Dictionary\n",
    "from gensim import corpora\n",
    "import pandas as pd\n",
    "import numpy as np\n",
    "\n",
    "from pathos.helpers import cpu_count, freeze_support\n",
    "from pathos.multiprocessing import ProcessingPool\n",
    "from tqdm import tqdm\n",
    "\n",
    "from whoosh.index import create_in\n",
    "from whoosh.fields import *\n",
    "from whoosh.qparser import QueryParser, OrGroup, MultifieldParser\n",
    "\n",
    "from annoy import AnnoyIndex\n",
    "\n",
    "\n"
   ]
  },
  {
   "cell_type": "markdown",
   "metadata": {},
   "source": [
    "Don't forget to add Covid19 specific info to the spacy model."
   ]
  },
  {
   "cell_type": "code",
   "execution_count": null,
   "metadata": {},
   "outputs": [],
   "source": [
    "spacy_nlp = spacy.load('en_core_sci_lg')\n",
    "new_vector = spacy_nlp(\n",
    "               \"\"\"Positive-sense single‐stranded ribonucleic acid virus, subgenus \n",
    "                   sarbecovirus of the genus Betacoronavirus. \n",
    "                   Also known as severe acute respiratory syndrome coronavirus 2, \n",
    "                   also known by 2019 novel coronavirus. It is \n",
    "                   contagious in humans and is the cause of the ongoing pandemic of \n",
    "                   coronavirus disease. Coronavirus disease 2019 is a zoonotic infectious \n",
    "                   disease.\"\"\").vector    \n",
    "vector_data = {\"COVID-19\": new_vector,\n",
    "               \"2019-nCoV\": new_vector,\n",
    "               \"SARS-CoV-2\": new_vector}    \n",
    "for word, vector in vector_data.items():\n",
    "        spacy_nlp.vocab.set_vector(word, vector)\n",
    "\n",
    "\n",
    "#spacy_stopwords = spacy.lang.en.stop_words.STOP_WORDS\n",
    "#cpu_number = cpu_count()\n",
    "\n",
    "import warnings\n",
    "warnings.filterwarnings(\"ignore\")"
   ]
  },
  {
   "cell_type": "markdown",
   "metadata": {},
   "source": [
    "Our current search engine model is actually twofold: a Whoosh word-based search and Annoy doc2vec-based nearest neighbour search. In this case we mix both result lists to obtain the final search hits..."
   ]
  },
  {
   "cell_type": "code",
   "execution_count": null,
   "metadata": {},
   "outputs": [],
   "source": [
    "#read in data\n",
    "#search query input\n",
    "search_query = 'covid19 heart diseases risks'\n",
    "max_nb_docs = 10\n",
    "#whoosh indexing\n",
    "ix = pickle.load(open(\"ix_whoosh_doc.p\", \"rb\"))\n",
    "#transform the search query into its lemma forms\n",
    "sq_nlp = spacy_nlp(search_query)\n",
    "search_query_lemmas = ' '.join([x.lemma_ for x in sq_nlp])\n",
    "whoosh_result = search_index(ix, search_query_lemmas, max_nb_docs)\n",
    "#search query doc encoding from scispacy\n",
    "search_query_vector = sq_nlp.vector\n",
    "#annoy indexing\n",
    "u = AnnoyIndex(200, 'angular')\n",
    "u.load('semantic_search_doc.tree') \n",
    "annoy_results = u.get_nns_by_item(search_query_vector, max_nb_docs, search_k=10, include_distances=False)\n",
    "#combination of results\n",
    "print(whoosh_result)\n",
    "print(annoy_results)"
   ]
  },
  {
   "cell_type": "code",
   "execution_count": null,
   "metadata": {},
   "outputs": [],
   "source": []
  }
 ],
 "metadata": {
  "kernelspec": {
   "display_name": "Python 3",
   "language": "python",
   "name": "python3"
  },
  "language_info": {
   "codemirror_mode": {
    "name": "ipython",
    "version": 3
   },
   "file_extension": ".py",
   "mimetype": "text/x-python",
   "name": "python",
   "nbconvert_exporter": "python",
   "pygments_lexer": "ipython3",
   "version": "3.7.3"
  }
 },
 "nbformat": 4,
 "nbformat_minor": 2
}
