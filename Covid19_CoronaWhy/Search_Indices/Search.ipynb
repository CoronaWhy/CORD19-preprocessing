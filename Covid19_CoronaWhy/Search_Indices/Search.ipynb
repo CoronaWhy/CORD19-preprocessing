{
 "cells": [
  {
   "cell_type": "markdown",
   "metadata": {},
   "source": [
    "# Performing search with the built Whoosh and Annoy modules\n",
    "\n",
    "After building the indices for our search engine(s), we can just read in the pickled objects. The obtained hit indices we can carry forward to another pipline, or render here by looking back into the corpus. "
   ]
  },
  {
   "cell_type": "code",
   "execution_count": 1,
   "metadata": {},
   "outputs": [],
   "source": [
    "# -*- coding: utf-8 -*-\n",
    "\n",
    "import json, os, spacy, re, gensim, string, collections, pickle, sys, time\n",
    "from gensim.test.utils import common_texts\n",
    "from gensim.corpora.dictionary import Dictionary\n",
    "from gensim import corpora\n",
    "import pandas as pd\n",
    "import numpy as np\n",
    "\n",
    "from pathos.helpers import cpu_count, freeze_support\n",
    "from pathos.multiprocessing import ProcessingPool\n",
    "from tqdm import tqdm\n",
    "\n",
    "from whoosh.index import create_in\n",
    "from whoosh.fields import *\n",
    "from whoosh.qparser import QueryParser, OrGroup, MultifieldParser\n",
    "\n",
    "from annoy import AnnoyIndex\n",
    "\n",
    "\n"
   ]
  },
  {
   "cell_type": "markdown",
   "metadata": {},
   "source": [
    "Don't forget to add Covid19 specific info to the spacy model."
   ]
  },
  {
   "cell_type": "code",
   "execution_count": 2,
   "metadata": {},
   "outputs": [],
   "source": [
    "spacy_nlp = spacy.load('en_core_sci_lg')\n",
    "new_vector = spacy_nlp(\n",
    "               \"\"\"Positive-sense single‐stranded ribonucleic acid virus, subgenus \n",
    "                   sarbecovirus of the genus Betacoronavirus. \n",
    "                   Also known as severe acute respiratory syndrome coronavirus 2, \n",
    "                   also known by 2019 novel coronavirus. It is \n",
    "                   contagious in humans and is the cause of the ongoing pandemic of \n",
    "                   coronavirus disease. Coronavirus disease 2019 is a zoonotic infectious \n",
    "                   disease.\"\"\").vector    \n",
    "vector_data = {\"COVID-19\": new_vector,\n",
    "               \"2019-nCoV\": new_vector,\n",
    "               \"SARS-CoV-2\": new_vector}    \n",
    "for word, vector in vector_data.items():\n",
    "        spacy_nlp.vocab.set_vector(word, vector)\n",
    "\n",
    "\n",
    "#spacy_stopwords = spacy.lang.en.stop_words.STOP_WORDS\n",
    "#cpu_number = cpu_count()\n",
    "\n",
    "import warnings\n",
    "warnings.filterwarnings(\"ignore\")"
   ]
  },
  {
   "cell_type": "code",
   "execution_count": 3,
   "metadata": {},
   "outputs": [],
   "source": [
    "def search_index(ix, search_query, max_nb_docs):\n",
    "    #create a Whoosh search object\n",
    "    searcher = ix.searcher()\n",
    "    #add a weight for the OR search condition\n",
    "    og = OrGroup.factory(0.9)\n",
    "    #specify fields to search through in the indexed objects\n",
    "    query = MultifieldParser([\"title\",\"content\", \"umls\"], ix.schema, group=OrGroup).parse(search_query)\n",
    "    #initial the search and produce readable results\n",
    "    with ix.searcher() as searcher:\n",
    "        results = searcher.search(query, limit=max_nb_docs)\n",
    "        #print(results)\n",
    "        #for x in results:\n",
    "        #    print(x)\n",
    "        results = [(x[\"title\"], x.score) for x in results]\n",
    "        \n",
    "        \n",
    "        #quit()\n",
    "        \n",
    "    return results"
   ]
  },
  {
   "cell_type": "markdown",
   "metadata": {},
   "source": [
    "Our current search engine model is actually twofold: a Whoosh word-based search and Annoy doc2vec-based nearest neighbour search. In this case we mix both result lists to obtain the final search hits..."
   ]
  },
  {
   "cell_type": "markdown",
   "metadata": {},
   "source": [
    "Let's entry our search query and the maximal number of results from each search engine..."
   ]
  },
  {
   "cell_type": "code",
   "execution_count": 4,
   "metadata": {},
   "outputs": [],
   "source": [
    "#put in a search query\n",
    "search_query = 'covid19 heart diseases risks'\n",
    "max_nb_docs = 10"
   ]
  },
  {
   "cell_type": "markdown",
   "metadata": {},
   "source": [
    "Since the whoosh index has been constructed from lemmas and UMLS terms, we need to transform the initial search query into lemma forms:"
   ]
  },
  {
   "cell_type": "code",
   "execution_count": 5,
   "metadata": {},
   "outputs": [
    {
     "name": "stdout",
     "output_type": "stream",
     "text": [
      "Lemma form of the search query: covid19 heart disease risk\n"
     ]
    }
   ],
   "source": [
    "#whoosh indexing\n",
    "ix = pickle.load(open(\"ix_whoosh_doc.p\", \"rb\"))\n",
    "#transform the search query into its lemma forms\n",
    "sq_nlp = spacy_nlp(search_query)\n",
    "search_query_lemmas = ' '.join([x.lemma_ for x in sq_nlp])\n",
    "print('Lemma form of the search query: {}'.format(search_query_lemmas))"
   ]
  },
  {
   "cell_type": "markdown",
   "metadata": {},
   "source": [
    "Obtaining the whoosh indices with scores:"
   ]
  },
  {
   "cell_type": "code",
   "execution_count": 6,
   "metadata": {},
   "outputs": [],
   "source": [
    "whoosh_result = search_index(ix, search_query_lemmas, max_nb_docs)"
   ]
  },
  {
   "cell_type": "markdown",
   "metadata": {},
   "source": [
    "To get indices from Annoy we transform the search query into document vector and perform the search for nearest neighbours in Annoy's forest. Once we get the indices, we convert them into the original paper ids:"
   ]
  },
  {
   "cell_type": "code",
   "execution_count": 7,
   "metadata": {},
   "outputs": [],
   "source": [
    "#search query doc encoding from scispacy\n",
    "search_query_vector = sq_nlp.vector\n",
    "#annoy indexing\n",
    "u = AnnoyIndex(200, 'angular')\n",
    "u.load('semantic_search_doc.tree') \n",
    "#nns by vector gives us two lists: a list with indices and a list with distance \n",
    "annoy_results = u.get_nns_by_vector(search_query_vector, max_nb_docs, search_k=10, include_distances=True)\n",
    "annoy_results = zip(*annoy_results)    \n",
    "#to re-map the annoy indices to indices of the text corpus\n",
    "with open(\"paper_id_list.txt\", \"r+\") as f:\n",
    "    paper_id_list = f.readlines() \n",
    "annoy_results_ids = [(paper_id_list[x[0]].strip(),x[1]) for x in annoy_results]"
   ]
  },
  {
   "cell_type": "markdown",
   "metadata": {},
   "source": [
    "Let's compare the results from both search modules. We load up once again the whole corpus as a data frame and select the correspoding ids and contents by papers ids. We print out just the first sentence of each paper for convenience."
   ]
  },
  {
   "cell_type": "code",
   "execution_count": 8,
   "metadata": {},
   "outputs": [
    {
     "name": "stdout",
     "output_type": "stream",
     "text": [
      "Whoosh hit number: 0\n",
      "Paper id: 5f139e7f8d32031001059ea4a8fce4881a1f725b\n",
      "Paper whoosh score: 32.258142099097945\n",
      "Begining of the paper: journal pre-proof catheterization laboratory considerations during the coronavirus (covid-19) pandemic: from acc's interventional council and scai disclosures: fgpw reports serving as a site principal investigator for a multicenter trial supported by medtronic and receiving compensation from medtron\n",
      "\n",
      "\n",
      "Whoosh hit number: 1\n",
      "Paper id: 4fc8df5bcd44fad04689ea400e49294248ed36c7\n",
      "Paper whoosh score: 31.710969867083314\n",
      "Begining of the paper: journal pre-proof covid-19 and the renin-angiotensin system covid-19 and the renin-angiotensin system in late 2019, a coronavirus disease (covid-19) leading to severe acute respiratory syndrome (sars) started in china and has become a pandemic. the responsible virus has been designated sars-cov-2. t\n",
      "\n",
      "\n",
      "Whoosh hit number: 2\n",
      "Paper id: 5f390d49e1013bb9d4e4e7ece57004c4538737c1\n",
      "Paper whoosh score: 29.50293315528709\n",
      "Begining of the paper: covid-19 clinical characteristics, and sex-specific risk of mortality: systematic review 3 and meta-analysis 4 5 presentation. pooled mortality rate was 6.6%, with males having significantly higher mortality 127 compared to females (or 3.4; 95% ci 1.2 to 9.1, p = 0.01). 128 conclusion: covid-19 comm\n",
      "\n",
      "\n",
      "Whoosh hit number: 3\n",
      "Paper id: ffad7416effd57e66c6f2143ad660768af44cee9\n",
      "Paper whoosh score: 28.617800319400317\n",
      "Begining of the paper: articles radiological findings from 81 patients with covid-19 pneumonia in wuhan, china: a descriptive study background a cluster of patients with coronavirus disease 2019 (covid-19) pneumonia caused by infection with severe acute respiratory syndrome coronavirus 2 (sars-cov-2 beginning in december,\n",
      "\n",
      "\n",
      "Whoosh hit number: 4\n",
      "Paper id: 4fc8df5bcd44fad04689ea400e49294248ed36c7\n",
      "Paper whoosh score: 27.849666303458815\n",
      "Begining of the paper: journal pre-proof covid-19 and the renin-angiotensin system covid-19 and the renin-angiotensin system in late 2019, a coronavirus disease (covid-19) leading to severe acute respiratory syndrome (sars) started in china and has become a pandemic. the responsible virus has been designated sars-cov-2. t\n",
      "\n",
      "\n",
      "Whoosh hit number: 5\n",
      "Paper id: 9275fca658701f7e6af4f0514ca2a95f3fd2c5cd\n",
      "Paper whoosh score: 27.17016767418017\n",
      "Begining of the paper: comment 760 www since december, 2019, the outbreak of the 2019 novel coronavirus disease (covid19) infection has become a major epidemic threat in china. as of feb 11, 2020 , the cumulative number of confirmed cases in mainland china has reached 38 800, with 4740 (12·2%) cured cases and 1113 (2·9%) \n",
      "\n",
      "\n",
      "Whoosh hit number: 6\n",
      "Paper id: ef28c1c78e94676f2007929cd4dda33c7879757c\n",
      "Paper whoosh score: 25.455803893409737\n",
      "Begining of the paper: on january 9th, 2020, the chinese cdc reported that a new coronavirus, sars-cov-2, has been identified as the causative agent of covid 19 and the genomic sequence was made public. italy, for reasons not yet clear, with 80539 cases and 9134 deaths as per the 27th of march 2020 (1), is today the natio\n",
      "\n",
      "\n",
      "Whoosh hit number: 7\n",
      "Paper id: b6add4082c7d5c0d054fd0ff9cb6407c6c4058b7\n",
      "Paper whoosh score: 25.16082339228229\n",
      "Begining of the paper: expert review mfm guidance for covid-19 the world health organization (who) has declared covid-19 a global pandemic. healthcare 19 providers should prepare internal guidelines covering all aspect of the organization in order to have 20 their unit ready as soon as possible. this document addresses th\n",
      "\n",
      "\n",
      "Whoosh hit number: 8\n",
      "Paper id: d792b8eae1f454c6a6e6e4767d49feb93f6fc4ad\n",
      "Paper whoosh score: 24.95900347302235\n",
      "Begining of the paper: the sars-cov-2 epidemic outbreak: a review of plausible scenarios of containment and mitigation for mexico we present here several variants of a mathematical model to explore three main issues related to sars-cov-2 spread in scenarios similar to those present in mexico and elsewhere in latin america\n",
      "\n",
      "\n",
      "Whoosh hit number: 9\n",
      "Paper id: 2f29a1ce62d3b3acc350c357e50cbdb67ea92eb5\n",
      "Paper whoosh score: 24.819944981493194\n",
      "Begining of the paper: ann arbor veterans affairs healthcare system, mich background: thirty-day readmissions among elderly medicare patients are an important hospital quality measure. although plans for using 30-day readmission measures are under consideration for younger patients, little is known about readmission in yo\n",
      "\n",
      "\n"
     ]
    }
   ],
   "source": [
    "#load the corpus once again to be able to read the results\n",
    "source_folder = r'C:\\Users\\lga\\eclipse-workspace\\Covid19\\FirstAttempt\\v6-7_papers\\document_data'\n",
    "vector_df = pd.concat([pd.read_json(os.path.join(source_folder,p)) for p in list(os.listdir(source_folder))])\n",
    "    \n",
    "for nb_hit, (whoosh_id, whoosh_score) in enumerate(whoosh_result):\n",
    "    text_result = vector_df[vector_df.paper_id == whoosh_id][\"text\"].tolist()[0]\n",
    "    print(\"Whoosh hit number: {}\".format(nb_hit))\n",
    "    print(\"Paper id: {}\".format(whoosh_id))\n",
    "    print(\"Paper whoosh score: {}\".format(whoosh_score))\n",
    "    print(\"Begining of the paper: {}\".format(text_result[:300]))\n",
    "    print(\"\\n\")\n",
    "    \n"
   ]
  },
  {
   "cell_type": "code",
   "execution_count": 9,
   "metadata": {},
   "outputs": [
    {
     "name": "stdout",
     "output_type": "stream",
     "text": [
      "Annoy hit number: 0\n",
      "Paper id: c3ba4e042c5173d4a141f12cc5af6bcc9d7e9bb1\n",
      "Paper annoy score: 0.8624654412269592\n",
      "Begining of the paper: the care of highly contagious life-threatening infectious diseases (hlid\n",
      "\n",
      "\n",
      "Annoy hit number: 1\n",
      "Paper id: 85819dd0484e8be37690f33d94215268d6aa908d\n",
      "Paper annoy score: 0.8804579973220825\n",
      "Begining of the paper: emerging viral diseases in pulmonary medicine\n",
      "\n",
      "\n",
      "Annoy hit number: 2\n",
      "Paper id: d48449ff827937b1f17f84eaa5ce9e12e34333a3\n",
      "Paper annoy score: 0.9756640791893005\n",
      "Begining of the paper: risikomanagement besonderer infektionssituationen risk management of special infections phase\n",
      "\n",
      "\n",
      "Annoy hit number: 3\n",
      "Paper id: e685324959e008880480a9051e82e25ea28ab28a\n",
      "Paper annoy score: 0.9995529055595398\n",
      "Begining of the paper: intensivmed 5 2007 der notfallplan des krankenhauses bei allgemeingefährlichen infektionskrankheiten hospital emergency plan for the management of patients with highly contagious diseases \" abstract patients with imported highly contagious diseases like viral hemorrhagic fever (vhf), pneumonic plagu\n",
      "\n",
      "\n",
      "Annoy hit number: 4\n",
      "Paper id: 891e5d871c4b4ce18cf85c9ac5b4265c5ab65f5a\n",
      "Paper annoy score: 1.0468988418579102\n",
      "Begining of the paper: role of rhinovirus in respiratory tract infections in hospitalized children background rhinovirus is a recognized cause of common cold and has been shown to cause asthma exacerbations in adults and children. the burden of rhinovirus infections in hospitalized children has not been described in spain\n",
      "\n",
      "\n",
      "Annoy hit number: 5\n",
      "Paper id: a47f4d3e7b35db88bde75a4a7cd8a81d50b9e1f1\n",
      "Paper annoy score: 1.064436912536621\n",
      "Begining of the paper: epidemiology of nosocomial infections in neonates\n",
      "\n",
      "\n",
      "Annoy hit number: 6\n",
      "Paper id: a8aa395be3702d18e25730289069364952a2bf18\n",
      "Paper annoy score: 1.0668150186538696\n",
      "Begining of the paper: diagnosis of viral respiratory infections\n",
      "\n",
      "\n",
      "Annoy hit number: 7\n",
      "Paper id: 2cf3c36c94a377da2a4bb09400264b4fb615ccf0\n",
      "Paper annoy score: 1.1074177026748657\n",
      "Begining of the paper: palabras clave: infección respiratoria/tratamiento, niños summary respiratory infections are the main cause of consultation and hospitalization in children. because viral respiratory infections do not require specific antiviral treatment (only in occasional exceptions), in this article we will refer\n",
      "\n",
      "\n",
      "Annoy hit number: 8\n",
      "Paper id: f5c98cd14309b651de163f822dc607437196e023\n",
      "Paper annoy score: 1.1124118566513062\n",
      "Begining of the paper: atrial chaotic tachycardia during a respiratory tract infection due to nl63 coronavirus\n",
      "\n",
      "\n",
      "Annoy hit number: 9\n",
      "Paper id: 6fdd65b4222967843f6c1a65693244abf0c837cd\n",
      "Paper annoy score: 1.1149054765701294\n",
      "Begining of the paper: manifestations cutanées des maladies internes du chien cutaneous lesions associated with internal diseases in dogs\n",
      "\n",
      "\n"
     ]
    }
   ],
   "source": [
    "for nb_hit, (annoy_id, annoy_score) in enumerate(annoy_results_ids):\n",
    "    text_result = vector_df[vector_df.paper_id == annoy_id][\"text\"].tolist()[0]\n",
    "    print(\"Annoy hit number: {}\".format(nb_hit))\n",
    "    print(\"Paper id: {}\".format(annoy_id))\n",
    "    print(\"Paper annoy score: {}\".format(annoy_score))\n",
    "    print(\"Begining of the paper: {}\".format(text_result[:300]))\n",
    "    print(\"\\n\")"
   ]
  },
  {
   "cell_type": "markdown",
   "metadata": {},
   "source": [
    "As seen, the semantic search by Annoy tends to pick up incomplete documents consisting of single words, what shoud be a subject of further investigation (data corruption?)."
   ]
  },
  {
   "cell_type": "code",
   "execution_count": null,
   "metadata": {},
   "outputs": [],
   "source": []
  }
 ],
 "metadata": {
  "kernelspec": {
   "display_name": "Python 3",
   "language": "python",
   "name": "python3"
  },
  "language_info": {
   "codemirror_mode": {
    "name": "ipython",
    "version": 3
   },
   "file_extension": ".py",
   "mimetype": "text/x-python",
   "name": "python",
   "nbconvert_exporter": "python",
   "pygments_lexer": "ipython3",
   "version": "3.7.3"
  }
 },
 "nbformat": 4,
 "nbformat_minor": 2
}
