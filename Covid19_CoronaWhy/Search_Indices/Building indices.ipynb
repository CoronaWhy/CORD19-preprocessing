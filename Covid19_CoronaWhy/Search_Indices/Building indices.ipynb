{
 "cells": [
  {
   "cell_type": "markdown",
   "metadata": {},
   "source": [
    "# Building (a) search engine(s) with Whoosh and Annoy\n",
    "\n",
    "Once we have our data (produced by CoronaWhy Team for Covid19 Kaggle link), we can read them in and feed both into a simple search index of Whoosh and into Annoy's search forest (link). \n",
    "\n",
    "Whoosh is a Python pure index search engine using Okapi BM25F ranking function as well other user-defined search functions. We use it here to perform a basic word-based search.\n",
    "\n",
    "Annoy is a library for search in n-dimensional numerical space, e.g. word/document embeddings.\n",
    "\n",
    "The results from the indexing modules can be combined in different way: with Whoosh as a n-gram filter and Annoy as refinement, with two competing search methods etc. "
   ]
  },
  {
   "cell_type": "code",
   "execution_count": null,
   "metadata": {},
   "outputs": [],
   "source": [
    "# -*- coding: utf-8 -*-\n",
    "import json, os, spacy, re, gensim, string, collections, pickle, sys, time\n",
    "from gensim.test.utils import common_texts\n",
    "from gensim.corpora.dictionary import Dictionary\n",
    "from gensim import corpora\n",
    "import pandas as pd\n",
    "import numpy as np\n",
    "\n",
    "from pathos.helpers import cpu_count, freeze_support\n",
    "from pathos.multiprocessing import ProcessingPool\n",
    "from tqdm import tqdm\n",
    "\n",
    "from whoosh.index import create_in\n",
    "from whoosh.fields import *\n",
    "from whoosh.qparser import QueryParser, OrGroup, MultifieldParser\n",
    "\n",
    "from annoy import AnnoyIndex\n",
    "\n",
    "spacy_nlp = spacy.load('en_core_sci_lg')\n",
    "spacy_stopwords = spacy.lang.en.stop_words.STOP_WORDS\n",
    "cpu_number = cpu_count()\n",
    "\n",
    "import warnings\n",
    "warnings.filterwarnings(\"ignore\")"
   ]
  },
  {
   "cell_type": "code",
   "execution_count": null,
   "metadata": {},
   "outputs": [],
   "source": [
    "source_folder = \"...\"\n",
    "\n",
    "list_paths_source_texts = [os.path.join(source_folder,p) for p in os.listdir(source_folder)]\n"
   ]
  },
  {
   "cell_type": "code",
   "execution_count": null,
   "metadata": {},
   "outputs": [],
   "source": []
  }
 ],
 "metadata": {
  "kernelspec": {
   "display_name": "Python 3",
   "language": "python",
   "name": "python3"
  },
  "language_info": {
   "codemirror_mode": {
    "name": "ipython",
    "version": 3
   },
   "file_extension": ".py",
   "mimetype": "text/x-python",
   "name": "python",
   "nbconvert_exporter": "python",
   "pygments_lexer": "ipython3",
   "version": "3.7.3"
  }
 },
 "nbformat": 4,
 "nbformat_minor": 2
}
